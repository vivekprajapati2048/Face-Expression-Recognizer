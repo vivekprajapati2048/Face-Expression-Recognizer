{
  "nbformat": 4,
  "nbformat_minor": 0,
  "metadata": {
    "colab": {
      "name": "Face Expressions Recognizer.ipynb",
      "provenance": [],
      "collapsed_sections": []
    },
    "kernelspec": {
      "name": "python3",
      "display_name": "Python 3"
    },
    "language_info": {
      "name": "python"
    },
    "accelerator": "GPU"
  },
  "cells": [
    {
      "cell_type": "markdown",
      "metadata": {
        "id": "pZHYyRq09tGk"
      },
      "source": [
        "Face Expression Recognizer: Use Cases- Market Research, Gaming Industry, Behaviour Testing  \n",
        "Emotions: seven categories (0=Angry, 1=Disgust, 2=Fear, 3=Happy, 4=Sad, 5=Surprise, 6=Neutral)  \n"
      ]
    },
    {
      "cell_type": "markdown",
      "metadata": {
        "id": "hAaUGjWdDiom"
      },
      "source": [
        "## Import Data and Dependencies"
      ]
    },
    {
      "cell_type": "code",
      "metadata": {
        "id": "Hcm2yiBeSpoh"
      },
      "source": [
        "!nvidia-smi"
      ],
      "execution_count": null,
      "outputs": []
    },
    {
      "cell_type": "code",
      "metadata": {
        "colab": {
          "base_uri": "https://localhost:8080/"
        },
        "id": "R8gF9ZcFFKub",
        "outputId": "b246a20b-8f03-4f1d-8704-d1aafcf606f6"
      },
      "source": [
        "!wget https://www.dropbox.com/s/si11cws2pyho1bp/archive.zip"
      ],
      "execution_count": null,
      "outputs": [
        {
          "output_type": "stream",
          "text": [
            "--2021-07-27 09:10:12--  https://www.dropbox.com/s/si11cws2pyho1bp/archive.zip\n",
            "Resolving www.dropbox.com (www.dropbox.com)... 162.125.6.18, 2620:100:601c:18::a27d:612\n",
            "Connecting to www.dropbox.com (www.dropbox.com)|162.125.6.18|:443... connected.\n",
            "HTTP request sent, awaiting response... 301 Moved Permanently\n",
            "Location: /s/raw/si11cws2pyho1bp/archive.zip [following]\n",
            "--2021-07-27 09:10:12--  https://www.dropbox.com/s/raw/si11cws2pyho1bp/archive.zip\n",
            "Reusing existing connection to www.dropbox.com:443.\n",
            "HTTP request sent, awaiting response... 302 Found\n",
            "Location: https://uc368da10d540935356c561493e6.dl.dropboxusercontent.com/cd/0/inline/BTGsiedNOH79WJsBX5vpZuLbAfo7zFprUTH1yoNmn6V6iH5s05vxstzDZGP0j5iqY5w2P-ffdMV2DCmri7hFtSL3E9NYpkfkbdlLt2UGvSvDai-5NWqGuKDkjD8MjF-Y3xH7Fd3tpbp7n_KkslU-Rfhl/file# [following]\n",
            "--2021-07-27 09:10:12--  https://uc368da10d540935356c561493e6.dl.dropboxusercontent.com/cd/0/inline/BTGsiedNOH79WJsBX5vpZuLbAfo7zFprUTH1yoNmn6V6iH5s05vxstzDZGP0j5iqY5w2P-ffdMV2DCmri7hFtSL3E9NYpkfkbdlLt2UGvSvDai-5NWqGuKDkjD8MjF-Y3xH7Fd3tpbp7n_KkslU-Rfhl/file\n",
            "Resolving uc368da10d540935356c561493e6.dl.dropboxusercontent.com (uc368da10d540935356c561493e6.dl.dropboxusercontent.com)... 162.125.6.15, 2620:100:601c:15::a27d:60f\n",
            "Connecting to uc368da10d540935356c561493e6.dl.dropboxusercontent.com (uc368da10d540935356c561493e6.dl.dropboxusercontent.com)|162.125.6.15|:443... connected.\n",
            "HTTP request sent, awaiting response... 302 Found\n",
            "Location: /cd/0/inline2/BTHQNh_IMvpSWSiYNvi25_OpkqBwq8zgKmOJMsnqVQ_foQKgtZJYejZcdI7aBDEeH_MlAIsUFHX479Civ6KigjEziyFTZBqWA4oiC2RThzED-_ywwmlnY_yGJIH-S9EClNU-TL4FGxlhzRYh2bUiWD4RjycyL-UQzDYeZIpjJNnnkkK3nn4JTRjufvkyEFy6z1m3zl8fg3cNt3k1NAwvbH3uhuF4zZ75L5jK65NktHHIckmslkmi0MfWT40-cS-e23ZkWB3nVDUh-PavSW2_vvptMHQuD08kbXhgPMAVureeiPd3esk8fLdSaufU2bO2zMlzsdXT46lgWVLatKfhWu_V_KKrFHIkzIeGlgDdtIm95jP59t6zEMIuq1QdWb_55vw/file [following]\n",
            "--2021-07-27 09:10:12--  https://uc368da10d540935356c561493e6.dl.dropboxusercontent.com/cd/0/inline2/BTHQNh_IMvpSWSiYNvi25_OpkqBwq8zgKmOJMsnqVQ_foQKgtZJYejZcdI7aBDEeH_MlAIsUFHX479Civ6KigjEziyFTZBqWA4oiC2RThzED-_ywwmlnY_yGJIH-S9EClNU-TL4FGxlhzRYh2bUiWD4RjycyL-UQzDYeZIpjJNnnkkK3nn4JTRjufvkyEFy6z1m3zl8fg3cNt3k1NAwvbH3uhuF4zZ75L5jK65NktHHIckmslkmi0MfWT40-cS-e23ZkWB3nVDUh-PavSW2_vvptMHQuD08kbXhgPMAVureeiPd3esk8fLdSaufU2bO2zMlzsdXT46lgWVLatKfhWu_V_KKrFHIkzIeGlgDdtIm95jP59t6zEMIuq1QdWb_55vw/file\n",
            "Reusing existing connection to uc368da10d540935356c561493e6.dl.dropboxusercontent.com:443.\n",
            "HTTP request sent, awaiting response... 200 OK\n",
            "Length: 63252113 (60M) [application/zip]\n",
            "Saving to: ‘archive.zip’\n",
            "\n",
            "archive.zip         100%[===================>]  60.32M   184MB/s    in 0.3s    \n",
            "\n",
            "2021-07-27 09:10:13 (184 MB/s) - ‘archive.zip’ saved [63252113/63252113]\n",
            "\n"
          ],
          "name": "stdout"
        }
      ]
    },
    {
      "cell_type": "code",
      "metadata": {
        "id": "mkziAgJNIjHf"
      },
      "source": [
        "!unzip -q \"/content/archive.zip\""
      ],
      "execution_count": null,
      "outputs": []
    },
    {
      "cell_type": "code",
      "metadata": {
        "id": "Y26WoMcNJXns"
      },
      "source": [
        "# Imports required for this project\n",
        "import tensorflow as tf\n",
        "import numpy as np\n",
        "import matplotlib.pyplot as plt\n",
        "from pathlib import Path\n",
        "\n",
        "tf.random.set_seed(4)"
      ],
      "execution_count": null,
      "outputs": []
    },
    {
      "cell_type": "code",
      "metadata": {
        "id": "gDa2l6EpInFd"
      },
      "source": [
        "# Creating the Pathlib PATH objects\n",
        "train_path = Path(\"/content/train\")\n",
        "test_path = Path(\"/content/test\")"
      ],
      "execution_count": null,
      "outputs": []
    },
    {
      "cell_type": "code",
      "metadata": {
        "colab": {
          "base_uri": "https://localhost:8080/"
        },
        "id": "ImXim_mMJVRa",
        "outputId": "e3f7cb65-5808-49b8-8671-8d486f1f7ecf"
      },
      "source": [
        "# Getting Image paths \n",
        "train_image_paths = list(train_path.glob(\"*/*\"))\n",
        "train_image_paths = list(map(lambda x : str(x) , train_image_paths))\n",
        "\n",
        "train_image_paths[:10]"
      ],
      "execution_count": null,
      "outputs": [
        {
          "output_type": "execute_result",
          "data": {
            "text/plain": [
              "['/content/train/sad/Training_86170826.jpg',\n",
              " '/content/train/sad/Training_7269195.jpg',\n",
              " '/content/train/sad/Training_75293540.jpg',\n",
              " '/content/train/sad/Training_89001863.jpg',\n",
              " '/content/train/sad/Training_59719745.jpg',\n",
              " '/content/train/sad/Training_25039953.jpg',\n",
              " '/content/train/sad/Training_54228372.jpg',\n",
              " '/content/train/sad/Training_81039583.jpg',\n",
              " '/content/train/sad/Training_42815150.jpg',\n",
              " '/content/train/sad/Training_34732469.jpg']"
            ]
          },
          "metadata": {
            "tags": []
          },
          "execution_count": 5
        }
      ]
    },
    {
      "cell_type": "code",
      "metadata": {
        "colab": {
          "base_uri": "https://localhost:8080/"
        },
        "id": "PvsVVLJtJa70",
        "outputId": "84da5fbc-b760-4603-da09-153656525a4c"
      },
      "source": [
        "# Getting their respective labels \n",
        "\n",
        "def get_label(image_path):\n",
        "    return image_path.split(\"/\")[-2]\n",
        "\n",
        "train_image_labels = list(map(lambda x : get_label(x) , train_image_paths))\n",
        "train_image_labels[:10]"
      ],
      "execution_count": null,
      "outputs": [
        {
          "output_type": "execute_result",
          "data": {
            "text/plain": [
              "['sad', 'sad', 'sad', 'sad', 'sad', 'sad', 'sad', 'sad', 'sad', 'sad']"
            ]
          },
          "metadata": {
            "tags": []
          },
          "execution_count": 6
        }
      ]
    },
    {
      "cell_type": "code",
      "metadata": {
        "colab": {
          "base_uri": "https://localhost:8080/"
        },
        "id": "J2PyisAQJdnk",
        "outputId": "e57a5823-c59f-4e69-e1c9-7d88fbc89fe0"
      },
      "source": [
        "from sklearn.preprocessing import LabelEncoder \n",
        "\n",
        "Le = LabelEncoder()\n",
        "train_image_labels = Le.fit_transform(train_image_labels)\n",
        "\n",
        "train_image_labels[:10]"
      ],
      "execution_count": null,
      "outputs": [
        {
          "output_type": "execute_result",
          "data": {
            "text/plain": [
              "array([5, 5, 5, 5, 5, 5, 5, 5, 5, 5])"
            ]
          },
          "metadata": {
            "tags": []
          },
          "execution_count": 7
        }
      ]
    },
    {
      "cell_type": "code",
      "metadata": {
        "colab": {
          "base_uri": "https://localhost:8080/"
        },
        "id": "teXPoVwzJgD0",
        "outputId": "2225921e-4c91-4335-da01-0a4e7577ba6d"
      },
      "source": [
        "train_image_labels = tf.keras.utils.to_categorical(train_image_labels)\n",
        "\n",
        "train_image_labels[:10]"
      ],
      "execution_count": null,
      "outputs": [
        {
          "output_type": "execute_result",
          "data": {
            "text/plain": [
              "array([[0., 0., 0., 0., 0., 1., 0.],\n",
              "       [0., 0., 0., 0., 0., 1., 0.],\n",
              "       [0., 0., 0., 0., 0., 1., 0.],\n",
              "       [0., 0., 0., 0., 0., 1., 0.],\n",
              "       [0., 0., 0., 0., 0., 1., 0.],\n",
              "       [0., 0., 0., 0., 0., 1., 0.],\n",
              "       [0., 0., 0., 0., 0., 1., 0.],\n",
              "       [0., 0., 0., 0., 0., 1., 0.],\n",
              "       [0., 0., 0., 0., 0., 1., 0.],\n",
              "       [0., 0., 0., 0., 0., 1., 0.]], dtype=float32)"
            ]
          },
          "metadata": {
            "tags": []
          },
          "execution_count": 8
        }
      ]
    },
    {
      "cell_type": "code",
      "metadata": {
        "id": "nWtX-CgzJimk"
      },
      "source": [
        "from sklearn.model_selection import train_test_split \n",
        "\n",
        "X_train , X_val , y_train , y_val = train_test_split(train_image_paths , train_image_labels , test_size = 0.25)"
      ],
      "execution_count": null,
      "outputs": []
    },
    {
      "cell_type": "code",
      "metadata": {
        "colab": {
          "base_uri": "https://localhost:8080/"
        },
        "id": "ZQ8RnggIJpRU",
        "outputId": "98d54efe-e015-4c67-ac5c-71dd534338e5"
      },
      "source": [
        "# Compute class weights \n",
        "\n",
        "classTotals = y_train.sum(axis=0)\n",
        "classWeight = classTotals.max() / classTotals\n",
        "\n",
        "class_weight = {e : weight for e , weight in enumerate(classWeight)}\n",
        "print(class_weight)"
      ],
      "execution_count": null,
      "outputs": [
        {
          "output_type": "stream",
          "text": [
            "{0: 1.8133111, 1: 16.663609, 2: 1.7801372, 3: 1.0, 4: 1.4596839, 5: 1.5148735, 6: 2.3098772}\n"
          ],
          "name": "stdout"
        }
      ]
    },
    {
      "cell_type": "markdown",
      "metadata": {
        "id": "8M0NsCetNh8V"
      },
      "source": [
        "## Data Loading and Augmentation"
      ]
    },
    {
      "cell_type": "code",
      "metadata": {
        "id": "nPNxtPADJxPF"
      },
      "source": [
        "# Function used for Transformation\n",
        "\n",
        "def load(image , label):\n",
        "    image = tf.io.read_file(image)\n",
        "    image = tf.io.decode_jpeg(image , channels = 3)\n",
        "    return image , label"
      ],
      "execution_count": null,
      "outputs": []
    },
    {
      "cell_type": "code",
      "metadata": {
        "id": "rl2Hs7NkJ1K8"
      },
      "source": [
        "# Define IMAGE SIZE and BATCH SIZE \n",
        "IMG_SIZE = 96 \n",
        "BATCH_SIZE = 32\n",
        "\n",
        "# Basic Transformation\n",
        "resize = tf.keras.Sequential([\n",
        "    tf.keras.layers.experimental.preprocessing.Resizing(IMG_SIZE, IMG_SIZE)          \n",
        "])\n",
        "\n",
        "# Data Augmentation\n",
        "data_augmentation = tf.keras.Sequential([\n",
        "    tf.keras.layers.experimental.preprocessing.RandomFlip(\"horizontal\"),\n",
        "    tf.keras.layers.experimental.preprocessing.RandomRotation(0.1),\n",
        "    tf.keras.layers.experimental.preprocessing.RandomZoom(height_factor = (-0.1, -0.05))\n",
        "])"
      ],
      "execution_count": null,
      "outputs": []
    },
    {
      "cell_type": "code",
      "metadata": {
        "id": "E5u4FAn3J3PE"
      },
      "source": [
        "# Function used to Create a Tensorflow Data Object\n",
        "AUTOTUNE = tf.data.experimental.AUTOTUNE\n",
        "def get_dataset(paths , labels , train = True):\n",
        "    # convert paths and labels to tensor\n",
        "    image_paths = tf.convert_to_tensor(paths)\n",
        "    labels = tf.convert_to_tensor(labels)\n",
        "\n",
        "    # create dataset objects for images and labels\n",
        "    image_dataset = tf.data.Dataset.from_tensor_slices(image_paths)\n",
        "    label_dataset = tf.data.Dataset.from_tensor_slices(labels)\n",
        "\n",
        "    # zip them to be able to iterate on both at once\n",
        "    dataset = tf.data.Dataset.zip((image_dataset , label_dataset))\n",
        "\n",
        "    # apply load and resize on dataset\n",
        "    dataset = dataset.map(lambda image , label : load(image , label))\n",
        "    dataset = dataset.map(lambda image, label: (resize(image), label) , num_parallel_calls=AUTOTUNE)\n",
        "\n",
        "    # shuffle and batch the dataset\n",
        "    dataset = dataset.shuffle(1000)\n",
        "    dataset = dataset.batch(BATCH_SIZE)\n",
        "\n",
        "    # if train = True apply data augmentation\n",
        "    if train:\n",
        "        dataset = dataset.map(lambda image, label: (data_augmentation(image), label) , num_parallel_calls=AUTOTUNE)\n",
        "    \n",
        "    # if not training repeat over the dataset and return\n",
        "    dataset = dataset.repeat()\n",
        "    return dataset"
      ],
      "execution_count": null,
      "outputs": []
    },
    {
      "cell_type": "code",
      "metadata": {
        "colab": {
          "base_uri": "https://localhost:8080/"
        },
        "id": "RVIWOL_ZJ7j8",
        "outputId": "841550d5-83d7-4da6-82f9-92b00931fb24"
      },
      "source": [
        "# Creating Train Dataset object and Verifying it\n",
        "%time train_dataset = get_dataset(X_train , y_train)\n",
        "\n",
        "image , label = next(iter(train_dataset))\n",
        "print(image.shape)\n",
        "print(label.shape)"
      ],
      "execution_count": null,
      "outputs": [
        {
          "output_type": "stream",
          "text": [
            "CPU times: user 327 ms, sys: 10.2 ms, total: 337 ms\n",
            "Wall time: 393 ms\n",
            "(32, 96, 96, 3)\n",
            "(32, 7)\n"
          ],
          "name": "stdout"
        }
      ]
    },
    {
      "cell_type": "code",
      "metadata": {
        "colab": {
          "base_uri": "https://localhost:8080/",
          "height": 302
        },
        "id": "VmMB-2JEKBY8",
        "outputId": "329f3d0b-fcdf-4a5c-8c81-955c76d71f8b"
      },
      "source": [
        "# View a sample Training Image\n",
        "print(Le.inverse_transform(np.argmax(label , axis = 1))[0])\n",
        "plt.imshow((image[0].numpy()/255).reshape(96 , 96 , 3))"
      ],
      "execution_count": null,
      "outputs": [
        {
          "output_type": "stream",
          "text": [
            "happy\n"
          ],
          "name": "stdout"
        },
        {
          "output_type": "execute_result",
          "data": {
            "text/plain": [
              "<matplotlib.image.AxesImage at 0x7f45102f7e50>"
            ]
          },
          "metadata": {
            "tags": []
          },
          "execution_count": 15
        },
        {
          "output_type": "display_data",
          "data": {
            "image/png": "[encoded data removed]",
            "text/plain": [
              "<Figure size 432x288 with 1 Axes>"
            ]
          },
          "metadata": {
            "tags": [],
            "needs_background": "light"
          }
        }
      ]
    },
    {
      "cell_type": "code",
      "metadata": {
        "colab": {
          "base_uri": "https://localhost:8080/"
        },
        "id": "KSfzF5mdKD_E",
        "outputId": "98e48bcc-c081-4308-d363-582e831927bc"
      },
      "source": [
        "%time val_dataset = get_dataset(X_val , y_val , train=False)\n",
        "\n",
        "image , label = next(iter(val_dataset))\n",
        "print(image.shape)\n",
        "print(label.shape)"
      ],
      "execution_count": null,
      "outputs": [
        {
          "output_type": "stream",
          "text": [
            "CPU times: user 25.2 ms, sys: 0 ns, total: 25.2 ms\n",
            "Wall time: 26.7 ms\n",
            "(32, 96, 96, 3)\n",
            "(32, 7)\n"
          ],
          "name": "stdout"
        }
      ]
    },
    {
      "cell_type": "code",
      "metadata": {
        "colab": {
          "base_uri": "https://localhost:8080/",
          "height": 302
        },
        "id": "RViYQM4yKKu8",
        "outputId": "77bef04f-9cbd-4be7-da83-558a9907b35b"
      },
      "source": [
        "# View a sample Validation Image\n",
        "print(Le.inverse_transform(np.argmax(label , axis = 1))[0])\n",
        "plt.imshow((image[0].numpy()/255).reshape(96 , 96 , 3))"
      ],
      "execution_count": null,
      "outputs": [
        {
          "output_type": "stream",
          "text": [
            "neutral\n"
          ],
          "name": "stdout"
        },
        {
          "output_type": "execute_result",
          "data": {
            "text/plain": [
              "<matplotlib.image.AxesImage at 0x7f4510067ad0>"
            ]
          },
          "metadata": {
            "tags": []
          },
          "execution_count": 17
        },
        {
          "output_type": "display_data",
          "data": {
            "image/png": "[encoded data removed]",
            "text/plain": [
              "<Figure size 432x288 with 1 Axes>"
            ]
          },
          "metadata": {
            "tags": [],
            "needs_background": "light"
          }
        }
      ]
    },
    {
      "cell_type": "markdown",
      "metadata": {
        "id": "3EKdPBGpNp9R"
      },
      "source": [
        "## Model Training"
      ]
    },
    {
      "cell_type": "code",
      "metadata": {
        "colab": {
          "base_uri": "https://localhost:8080/"
        },
        "id": "FAqXI9w-KMoE",
        "outputId": "4f2f216a-5d4f-43e3-9da4-127091cc3331"
      },
      "source": [
        "# Building EfficientNet model\n",
        "from tensorflow.keras.applications import EfficientNetB2\n",
        "\n",
        "backbone = EfficientNetB2(\n",
        "    input_shape=(96, 96, 3),\n",
        "    include_top=False  # not including a final layers of EfficientNetB2\n",
        ")\n",
        "\n",
        "model = tf.keras.Sequential([\n",
        "    backbone,\n",
        "    tf.keras.layers.GlobalAveragePooling2D(),\n",
        "    tf.keras.layers.Dropout(0.3),\n",
        "    tf.keras.layers.Dense(128, activation='relu'),\n",
        "    tf.keras.layers.Dense(7, activation='softmax')\n",
        "])\n",
        "\n",
        "model.summary()"
      ],
      "execution_count": null,
      "outputs": [
        {
          "output_type": "stream",
          "text": [
            "Downloading data from https://storage.googleapis.com/keras-applications/efficientnetb2_notop.h5\n",
            "31793152/31790344 [==============================] - 0s 0us/step\n",
            "Model: \"sequential_2\"\n",
            "_________________________________________________________________\n",
            "Layer (type)                 Output Shape              Param #   \n",
            "=================================================================\n",
            "efficientnetb2 (Functional)  (None, 3, 3, 1408)        7768569   \n",
            "_________________________________________________________________\n",
            "global_average_pooling2d (Gl (None, 1408)              0         \n",
            "_________________________________________________________________\n",
            "dropout (Dropout)            (None, 1408)              0         \n",
            "_________________________________________________________________\n",
            "dense (Dense)                (None, 128)               180352    \n",
            "_________________________________________________________________\n",
            "dense_1 (Dense)              (None, 7)                 903       \n",
            "=================================================================\n",
            "Total params: 7,949,824\n",
            "Trainable params: 7,882,249\n",
            "Non-trainable params: 67,575\n",
            "_________________________________________________________________\n"
          ],
          "name": "stdout"
        }
      ]
    },
    {
      "cell_type": "code",
      "metadata": {
        "id": "lnNHDcr5KQys"
      },
      "source": [
        "# Compiling your model by providing the Optimizer , Loss and Metrics\n",
        "model.compile(\n",
        "    optimizer=tf.keras.optimizers.Adam(learning_rate=0.001, beta_1=0.9, beta_2=0.999, epsilon=1e-07),\n",
        "    loss = 'categorical_crossentropy',\n",
        "    metrics=['accuracy' , tf.keras.metrics.Precision(name='precision'),tf.keras.metrics.Recall(name='recall')]\n",
        ")"
      ],
      "execution_count": null,
      "outputs": []
    },
    {
      "cell_type": "code",
      "metadata": {
        "colab": {
          "base_uri": "https://localhost:8080/"
        },
        "id": "PJOhdO8mKU-d",
        "outputId": "3d125e07-3d84-46cf-ae3a-574d9f2b60d5"
      },
      "source": [
        "# Train the model\n",
        "history = model.fit(\n",
        "    train_dataset,\n",
        "    steps_per_epoch=len(X_train)//BATCH_SIZE,\n",
        "    epochs=12,\n",
        "    validation_data=val_dataset,\n",
        "    validation_steps = len(X_val)//BATCH_SIZE,\n",
        "    class_weight=class_weight\n",
        ")"
      ],
      "execution_count": null,
      "outputs": [
        {
          "output_type": "stream",
          "text": [
            "WARNING:tensorflow:From /usr/local/lib/python3.7/dist-packages/tensorflow/python/ops/array_ops.py:5049: calling gather (from tensorflow.python.ops.array_ops) with validate_indices is deprecated and will be removed in a future version.\n",
            "Instructions for updating:\n",
            "The `validate_indices` argument has no effect. Indices are always validated on CPU and never validated on GPU.\n",
            "Epoch 1/12\n",
            "672/672 [==============================] - 141s 145ms/step - loss: 2.8878 - accuracy: 0.3900 - precision: 0.6411 - recall: 0.1699 - val_loss: 1.3005 - val_accuracy: 0.5042 - val_precision: 0.7203 - val_recall: 0.2921\n",
            "Epoch 2/12\n",
            "672/672 [==============================] - 96s 141ms/step - loss: 2.3747 - accuracy: 0.4963 - precision: 0.6876 - recall: 0.2888 - val_loss: 1.2034 - val_accuracy: 0.5518 - val_precision: 0.7160 - val_recall: 0.3655\n",
            "Epoch 3/12\n",
            "672/672 [==============================] - 97s 144ms/step - loss: 2.2305 - accuracy: 0.5274 - precision: 0.7007 - recall: 0.3304 - val_loss: 1.2440 - val_accuracy: 0.5310 - val_precision: 0.6713 - val_recall: 0.3682\n",
            "Epoch 4/12\n",
            "672/672 [==============================] - 96s 143ms/step - loss: 2.0914 - accuracy: 0.5508 - precision: 0.7181 - recall: 0.3658 - val_loss: 1.2825 - val_accuracy: 0.5269 - val_precision: 0.6184 - val_recall: 0.4157\n",
            "Epoch 5/12\n",
            "672/672 [==============================] - 95s 142ms/step - loss: 2.0711 - accuracy: 0.5580 - precision: 0.7154 - recall: 0.3809 - val_loss: 1.1190 - val_accuracy: 0.5812 - val_precision: 0.7125 - val_recall: 0.4397\n",
            "Epoch 6/12\n",
            "672/672 [==============================] - 95s 142ms/step - loss: 1.9781 - accuracy: 0.5750 - precision: 0.7221 - recall: 0.4063 - val_loss: 1.1741 - val_accuracy: 0.5533 - val_precision: 0.7110 - val_recall: 0.3836\n",
            "Epoch 7/12\n",
            "672/672 [==============================] - 96s 142ms/step - loss: 1.9371 - accuracy: 0.5849 - precision: 0.7293 - recall: 0.4219 - val_loss: 1.1553 - val_accuracy: 0.5725 - val_precision: 0.6619 - val_recall: 0.4805\n",
            "Epoch 8/12\n",
            "672/672 [==============================] - 95s 142ms/step - loss: 1.8605 - accuracy: 0.6006 - precision: 0.7372 - recall: 0.4483 - val_loss: 1.1111 - val_accuracy: 0.5834 - val_precision: 0.6907 - val_recall: 0.4710\n",
            "Epoch 9/12\n",
            "672/672 [==============================] - 95s 141ms/step - loss: 1.8498 - accuracy: 0.5957 - precision: 0.7293 - recall: 0.4457 - val_loss: 1.1948 - val_accuracy: 0.5642 - val_precision: 0.6521 - val_recall: 0.4689\n",
            "Epoch 10/12\n",
            "672/672 [==============================] - 94s 140ms/step - loss: 1.7816 - accuracy: 0.6114 - precision: 0.7339 - recall: 0.4699 - val_loss: 1.0799 - val_accuracy: 0.5925 - val_precision: 0.7234 - val_recall: 0.4576\n",
            "Epoch 11/12\n",
            "672/672 [==============================] - 95s 142ms/step - loss: 1.7394 - accuracy: 0.6189 - precision: 0.7423 - recall: 0.4800 - val_loss: 1.0492 - val_accuracy: 0.5935 - val_precision: 0.7135 - val_recall: 0.4940\n",
            "Epoch 12/12\n",
            "325/672 [=============>................] - ETA: 45s - loss: 1.6833 - accuracy: 0.6267 - precision: 0.7552 - recall: 0.4911"
          ],
          "name": "stdout"
        }
      ]
    },
    {
      "cell_type": "code",
      "metadata": {
        "id": "H7g5HiRoM0tl"
      },
      "source": [
        "# we expect our model to just learn patterns in current data.\n",
        "# then we freeze all the layers and train only on last layer where we do classification, \n",
        "# this gives more importance to the classification layer, thus making it more accurate"
      ],
      "execution_count": null,
      "outputs": []
    },
    {
      "cell_type": "code",
      "metadata": {
        "id": "LrOKhPcuKmkH"
      },
      "source": [
        "# turnoff the backbone after tuning weights - to ensure the lesser chance of overfitting\n",
        "model.layers[0].trainable = False"
      ],
      "execution_count": null,
      "outputs": []
    },
    {
      "cell_type": "code",
      "metadata": {
        "id": "pkfGV8V5MKHG"
      },
      "source": [
        "# Defining our callbacks \n",
        "checkpoint = tf.keras.callbacks.ModelCheckpoint(\"best_weights.h5\",\n",
        "                                                verbose=1,\n",
        "                                                save_best_only=True,\n",
        "                                                save_weights_only = True)\n",
        "\n",
        "early_stop = tf.keras.callbacks.EarlyStopping(patience=4)"
      ],
      "execution_count": null,
      "outputs": []
    },
    {
      "cell_type": "code",
      "metadata": {
        "id": "jeB-a6WjMKEU"
      },
      "source": [
        "model.summary()"
      ],
      "execution_count": null,
      "outputs": []
    },
    {
      "cell_type": "code",
      "metadata": {
        "id": "CsKMveVtMJ_8"
      },
      "source": [
        "# Train the model\n",
        "history = model.fit(\n",
        "    train_dataset,\n",
        "    steps_per_epoch=len(X_train)//BATCH_SIZE,\n",
        "    epochs=8,\n",
        "    callbacks=[checkpoint , early_stop],\n",
        "    validation_data=val_dataset,\n",
        "    validation_steps = len(X_val)//BATCH_SIZE,\n",
        "    class_weight=class_weight\n",
        ")"
      ],
      "execution_count": null,
      "outputs": []
    },
    {
      "cell_type": "markdown",
      "metadata": {
        "id": "DOhXVI5VOA84"
      },
      "source": [
        "## Evaluating the model"
      ]
    },
    {
      "cell_type": "code",
      "metadata": {
        "id": "h6j7RWwxMJ9X"
      },
      "source": [
        "from tensorflow.keras.applications import EfficientNetB2\n",
        "\n",
        "backbone = EfficientNetB2(\n",
        "    input_shape=(96, 96, 3),\n",
        "    include_top=False\n",
        ")\n",
        "\n",
        "model = tf.keras.Sequential([\n",
        "    backbone,\n",
        "    tf.keras.layers.GlobalAveragePooling2D(),\n",
        "    tf.keras.layers.Dropout(0.3),\n",
        "    tf.keras.layers.Dense(128, activation='relu'),\n",
        "    tf.keras.layers.Dense(7, activation='softmax')\n",
        "])\n",
        "\n",
        "model.compile(\n",
        "    optimizer=tf.keras.optimizers.Adam(learning_rate=0.001, beta_1=0.9, beta_2=0.999, epsilon=1e-07),\n",
        "    loss = 'categorical_crossentropy',\n",
        "    metrics=['accuracy' , tf.keras.metrics.Precision(name='precision'),tf.keras.metrics.Recall(name='recall')]\n",
        ")"
      ],
      "execution_count": null,
      "outputs": []
    },
    {
      "cell_type": "code",
      "metadata": {
        "id": "zVGSlY1kMJ4l"
      },
      "source": [
        "model.load_weights(\"best_weights.h5\")"
      ],
      "execution_count": null,
      "outputs": []
    },
    {
      "cell_type": "code",
      "metadata": {
        "id": "wPh1e8R8MJ11"
      },
      "source": [
        "# Create a Dataset Object for 'Testing' Set just the way we did for Training and Validation\n",
        "test_image_paths = list(test_path.glob(\"*/*\"))\n",
        "test_image_paths = list(map(lambda x : str(x) , test_image_paths))\n",
        "test_labels = list(map(lambda x : get_label(x) , test_image_paths))\n",
        "\n",
        "test_labels = Le.transform(test_labels)\n",
        "test_labels = tf.keras.utils.to_categorical(test_labels)\n",
        "\n",
        "test_image_paths = tf.convert_to_tensor(test_image_paths)\n",
        "test_labels = tf.convert_to_tensor(test_labels)\n",
        "\n",
        "def decode_image(image , label):\n",
        "    image = tf.io.read_file(image)\n",
        "    image = tf.io.decode_jpeg(image , channels = 3)\n",
        "    image = tf.image.resize(image , [96 , 96] , method=\"bilinear\")\n",
        "    return image , label\n",
        "\n",
        "test_dataset = (\n",
        "     tf.data.Dataset\n",
        "    .from_tensor_slices((test_image_paths, test_labels))\n",
        "    .map(decode_image)\n",
        "    .batch(BATCH_SIZE)\n",
        ")"
      ],
      "execution_count": null,
      "outputs": []
    },
    {
      "cell_type": "code",
      "metadata": {
        "id": "EMpPO9cNNQaf"
      },
      "source": [
        "# Verify Test Dataset Object\n",
        "image , label = next(iter(test_dataset))\n",
        "print(image.shape)\n",
        "print(label.shape)"
      ],
      "execution_count": null,
      "outputs": []
    },
    {
      "cell_type": "code",
      "metadata": {
        "id": "g2xcLkWRNRSf"
      },
      "source": [
        "# View a sample Validation Image\n",
        "print(Le.inverse_transform(np.argmax(label , axis = 1))[0])\n",
        "plt.imshow((image[0].numpy()/255).reshape(96 , 96 , 3))"
      ],
      "execution_count": null,
      "outputs": []
    },
    {
      "cell_type": "code",
      "metadata": {
        "id": "2pA9c7WfNRPh"
      },
      "source": [
        "# Evaluating the loaded model\n",
        "loss, acc, prec, rec = model.evaluate(test_dataset)\n",
        "\n",
        "print(\" Testing Acc : \" , acc)\n",
        "print(\" Testing Precision \" , prec)\n",
        "print(\" Testing Recall \" , rec)"
      ],
      "execution_count": null,
      "outputs": []
    },
    {
      "cell_type": "code",
      "metadata": {
        "id": "8kmjEfT0NRJ9"
      },
      "source": [
        "# Save Model\n",
        "model.save(\"FacialExpressionModel.h5\")"
      ],
      "execution_count": null,
      "outputs": []
    },
    {
      "cell_type": "code",
      "metadata": {
        "id": "LuPVzwx5NWGm"
      },
      "source": [
        "# Save Label Encoder \n",
        "import pickle\n",
        "\n",
        "def save_object(obj , name):\n",
        "    pickle_obj = open(f\"{name}.pck\",\"wb\")\n",
        "    pickle.dump(obj, pickle_obj)\n",
        "    pickle_obj.close()"
      ],
      "execution_count": null,
      "outputs": []
    },
    {
      "cell_type": "code",
      "metadata": {
        "id": "4nyyr8wBNWD0"
      },
      "source": [
        "save_object(Le, \"LabelEncoder\")"
      ],
      "execution_count": null,
      "outputs": []
    }
  ]
}